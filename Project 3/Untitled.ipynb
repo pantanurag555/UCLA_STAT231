{
 "cells": [
  {
   "cell_type": "code",
   "execution_count": 247,
   "metadata": {},
   "outputs": [],
   "source": [
    "import os\n",
    "import cv2\n",
    "import pickle\n",
    "import numpy as np\n",
    "import scipy.io as sio\n",
    "import matplotlib.pyplot as plt\n",
    "import matplotlib.lines as mlines\n",
    "from sklearn import svm\n",
    "from skimage.feature import hog\n",
    "from sklearn.metrics import accuracy_score\n",
    "from sklearn.preprocessing import minmax_scale\n",
    "from sklearn.model_selection import GridSearchCV\n",
    "from sklearn.model_selection import train_test_split\n",
    "\n",
    "def ld_images(folder):\n",
    "    images=[]\n",
    "    for file in sorted(os.listdir(folder)):\n",
    "        image = cv2.imread(os.path.join(folder,file))\n",
    "        if image is not None:\n",
    "            images.append(image)\n",
    "    return np.asarray(images)\n",
    "\n",
    "def trait_diff(traits):\n",
    "    n = traits.shape[0]\n",
    "    ones = np.full((int(n / 4)), 1)\n",
    "    minus_ones = np.full((int(n / 2) - int(n / 4)), -1)\n",
    "    labels = np.r_[ones, minus_ones]\n",
    "    k = 0\n",
    "    diff = []\n",
    "    for i in range(0,n,2):\n",
    "        if(labels[k] == 1):\n",
    "            diff.append(traits[i+1] - traits[i])\n",
    "        else:\n",
    "            diff.append(traits[i] - traits[i+1])\n",
    "        k += 1\n",
    "    diff = np.array(diff)\n",
    "    return diff, labels\n",
    "\n",
    "def plot_graph(train, test, type):\n",
    "    x = range(1,len(train)+1)\n",
    "    red_line = mlines.Line2D([], [], color='red', marker='o', label='Train Data')\n",
    "    green_line = mlines.Line2D([], [], color='green', marker='o', label='Test Data')\n",
    "    plt.plot(x, train, 'ro-')\n",
    "    plt.plot(x, test, 'go-')\n",
    "    plt.title(str(type)+\" Graph\")\n",
    "    plt.legend(handles = [red_line, green_line])\n",
    "    plt.show()"
   ]
  },
  {
   "cell_type": "code",
   "execution_count": 258,
   "metadata": {},
   "outputs": [],
   "source": [
    "best_models = pickle.load(open('1.2_best_models.pkl', 'rb'))"
   ]
  },
  {
   "cell_type": "code",
   "execution_count": 272,
   "metadata": {},
   "outputs": [
    {
     "name": "stderr",
     "output_type": "stream",
     "text": [
      "d:\\python36\\lib\\site-packages\\skimage\\feature\\_hog.py:150: skimage_deprecation: Default value of `block_norm`==`L1` is deprecated and will be changed to `L2-Hys` in v0.15. To supress this message specify explicitly the normalization method.\n",
      "  skimage_deprecation)\n"
     ]
    }
   ],
   "source": [
    "all_gov_rgb = ld_images(\"img-elec/governor\")\n",
    "all_gov_hog = []\n",
    "for i in range(len(all_gov_rgb)):\n",
    "    all_gov_rgb[i] = cv2.cvtColor(all_gov_rgb[i], cv2.COLOR_BGR2RGB)\n",
    "    fd, hog_image = hog(all_gov_rgb[i], orientations = 32, pixels_per_cell = (16, 16), cells_per_block = (1,1), visualize = True, multichannel = True)\n",
    "    all_gov_hog.append(fd)\n",
    "\n",
    "all_sen_rgb = ld_images(\"img-elec/senator\")\n",
    "all_sen_hog = []\n",
    "for i in range(len(all_sen_rgb)):\n",
    "    all_sen_rgb[i] = cv2.cvtColor(all_sen_rgb[i], cv2.COLOR_BGR2RGB)\n",
    "    fd, hog_image = hog(all_sen_rgb[i], orientations = 32, pixels_per_cell = (16, 16), cells_per_block = (1,1), visualize = True, multichannel = True)\n",
    "    all_sen_hog.append(fd)"
   ]
  },
  {
   "cell_type": "code",
   "execution_count": 273,
   "metadata": {},
   "outputs": [],
   "source": [
    "stat_gov = sio.loadmat('stat-gov.mat')\n",
    "gov_landmark = stat_gov['face_landmark']\n",
    "gov_vote_diff = stat_gov['vote_diff']\n",
    "\n",
    "stat_sen = sio.loadmat('stat-sen.mat')\n",
    "sen_landmark = stat_sen['face_landmark']\n",
    "sen_vote_diff = stat_sen['vote_diff']\n",
    "\n",
    "gov_features = np.c_[all_gov_hog, gov_landmark]\n",
    "sen_features = np.c_[all_sen_hog, sen_landmark]\n",
    "\n",
    "gov_features = minmax_scale(gov_features, axis = 0)\n",
    "sen_features = minmax_scale(sen_features, axis = 0)"
   ]
  },
  {
   "cell_type": "code",
   "execution_count": 274,
   "metadata": {},
   "outputs": [
    {
     "name": "stdout",
     "output_type": "stream",
     "text": [
      "0.7908062952832591\n",
      "0.5532643552177507\n",
      "0.4720823441079176\n",
      "0.325060007323577\n"
     ]
    }
   ],
   "source": [
    "print(gov_features[101,-11])\n",
    "print(gov_features[100,-11])\n",
    "print(sen_features[100,-11])\n",
    "print(sen_features[101,-11])"
   ]
  },
  {
   "cell_type": "code",
   "execution_count": 275,
   "metadata": {},
   "outputs": [],
   "source": [
    "gov_traits = []\n",
    "sen_traits = []\n",
    "for i in range(14):\n",
    "    gov_traits.append(best_models[i].predict(gov_features))\n",
    "    sen_traits.append(best_models[i].predict(sen_features))\n",
    "gov_traits = np.array(gov_traits).T\n",
    "sen_traits = np.array(sen_traits).T\n",
    "\n",
    "gov_diff, gov_labels = trait_diff(gov_traits)\n",
    "sen_diff, sen_labels = trait_diff(sen_traits)"
   ]
  },
  {
   "cell_type": "code",
   "execution_count": 276,
   "metadata": {},
   "outputs": [],
   "source": [
    "gov_diff = minmax_scale(gov_diff, axis = 0)\n",
    "sen_diff = minmax_scale(sen_diff, axis = 0)"
   ]
  },
  {
   "cell_type": "code",
   "execution_count": 277,
   "metadata": {},
   "outputs": [],
   "source": [
    "gov_train_diff, gov_test_diff, gov_train_labels, gov_test_labels = train_test_split(gov_diff, gov_labels, test_size=0.2, random_state=35, shuffle = True)\n",
    "sen_train_diff, sen_test_diff, sen_train_labels, sen_test_labels = train_test_split(sen_diff, sen_labels, test_size=0.2, random_state=5, shuffle = True)\n",
    "\n",
    "c_range = 2**np.linspace(-5,13, num=10)\n",
    "train_accuracy = []\n",
    "test_accuracy = []\n",
    "best_parameters = []"
   ]
  },
  {
   "cell_type": "code",
   "execution_count": 278,
   "metadata": {},
   "outputs": [
    {
     "name": "stdout",
     "output_type": "stream",
     "text": [
      "Fitting 10 folds for each of 10 candidates, totalling 100 fits\n"
     ]
    },
    {
     "name": "stderr",
     "output_type": "stream",
     "text": [
      "[Parallel(n_jobs=-1)]: Using backend LokyBackend with 12 concurrent workers.\n",
      "[Parallel(n_jobs=-1)]: Done  26 tasks      | elapsed:    3.7s\n",
      "[Parallel(n_jobs=-1)]: Done  77 out of 100 | elapsed:    4.0s remaining:    1.1s\n",
      "[Parallel(n_jobs=-1)]: Done 100 out of 100 | elapsed:    4.0s finished\n",
      "d:\\python36\\lib\\site-packages\\sklearn\\svm\\base.py:922: ConvergenceWarning: Liblinear failed to converge, increase the number of iterations.\n",
      "  \"the number of iterations.\", ConvergenceWarning)\n"
     ]
    }
   ],
   "source": [
    "svc = svm.LinearSVC(fit_intercept = False, loss = 'hinge')\n",
    "parameters = {'C':c_range}\n",
    "clf = GridSearchCV(svc, parameters, cv = 10, n_jobs = -1, scoring = 'accuracy', iid=True, verbose = True)\n",
    "clf.fit(gov_train_diff, gov_train_labels)\n",
    "train_pred = clf.predict(gov_train_diff)\n",
    "test_pred = clf.predict(gov_test_diff)\n",
    "train_accuracy.append(accuracy_score(gov_train_labels, train_pred))\n",
    "test_accuracy.append(accuracy_score(gov_test_labels, test_pred))\n",
    "best_parameters.append(clf.best_params_)"
   ]
  },
  {
   "cell_type": "code",
   "execution_count": 279,
   "metadata": {},
   "outputs": [
    {
     "name": "stderr",
     "output_type": "stream",
     "text": [
      "[Parallel(n_jobs=-1)]: Using backend LokyBackend with 12 concurrent workers.\n"
     ]
    },
    {
     "name": "stdout",
     "output_type": "stream",
     "text": [
      "Fitting 10 folds for each of 10 candidates, totalling 100 fits\n"
     ]
    },
    {
     "name": "stderr",
     "output_type": "stream",
     "text": [
      "[Parallel(n_jobs=-1)]: Done 100 out of 100 | elapsed:    0.3s finished\n",
      "d:\\python36\\lib\\site-packages\\sklearn\\svm\\base.py:922: ConvergenceWarning: Liblinear failed to converge, increase the number of iterations.\n",
      "  \"the number of iterations.\", ConvergenceWarning)\n"
     ]
    }
   ],
   "source": [
    "svc = svm.LinearSVC(fit_intercept = False, loss = 'hinge')\n",
    "parameters = {'C':c_range}\n",
    "clf = GridSearchCV(svc, parameters, cv = 10, n_jobs = -1, scoring = 'accuracy', iid=True, verbose = True)\n",
    "clf.fit(sen_train_diff, sen_train_labels)\n",
    "train_pred = clf.predict(sen_train_diff)\n",
    "test_pred = clf.predict(sen_test_diff)\n",
    "train_accuracy.append(accuracy_score(sen_train_labels, train_pred))\n",
    "test_accuracy.append(accuracy_score(sen_test_labels, test_pred))\n",
    "best_parameters.append(clf.best_params_)"
   ]
  },
  {
   "cell_type": "code",
   "execution_count": 280,
   "metadata": {},
   "outputs": [
    {
     "name": "stdout",
     "output_type": "stream",
     "text": [
      "Train Accuracy:\n",
      " [0.8181818181818182, 0.717391304347826]\n",
      "Test Accuracy:\n",
      " [0.75, 0.5833333333333334]\n",
      "Best Parameters:\n",
      " [{'C': 128.0}, {'C': 8.0}]\n"
     ]
    },
    {
     "data": {
      "image/png": "[encoded data removed]",
      "text/plain": [
       "<Figure size 432x288 with 1 Axes>"
      ]
     },
     "metadata": {
      "needs_background": "light"
     },
     "output_type": "display_data"
    }
   ],
   "source": [
    "print(\"Train Accuracy:\\n\",train_accuracy)\n",
    "print(\"Test Accuracy:\\n\",test_accuracy)\n",
    "print(\"Best Parameters:\\n\",best_parameters)\n",
    "\n",
    "plot_graph(train_accuracy,test_accuracy, \"Accuracy\")"
   ]
  },
  {
   "cell_type": "code",
   "execution_count": 285,
   "metadata": {},
   "outputs": [
    {
     "name": "stdout",
     "output_type": "stream",
     "text": [
      "GridSearchCV(cv=5, error_score='raise-deprecating',\n",
      "       estimator=SVR(C=1.0, cache_size=200, coef0=0.0, degree=3, epsilon=0.1,\n",
      "  gamma='auto_deprecated', kernel='rbf', max_iter=-1, shrinking=True,\n",
      "  tol=0.001, verbose=False),\n",
      "       fit_params=None, iid=True, n_jobs=6,\n",
      "       param_grid={'C': array([3.125e-02, 1.250e-01, 5.000e-01, 2.000e+00, 8.000e+00, 3.200e+01,\n",
      "       1.280e+02, 5.120e+02, 2.048e+03, 8.192e+03]), 'epsilon': array([1.95312e-03, 7.81250e-03, 3.12500e-02, 1.25000e-01, 5.00000e-01,\n",
      "       2.00000e+00]), 'gamma': array([7.62939e-06, 3.05176e-05, 1.22070e-04, 4.88281e-04, 1.95312e-03,\n",
      "       7.81250e-03, 3.12500e-02, 1.25000e-01, 5.00000e-01, 2.00000e+00,\n",
      "       8.00000e+00, 3.20000e+01])},\n",
      "       pre_dispatch='2*n_jobs', refit=True, return_train_score='warn',\n",
      "       scoring='neg_mean_squared_error', verbose=True)\n",
      "GridSearchCV(cv=5, error_score='raise-deprecating',\n",
      "       estimator=SVR(C=1.0, cache_size=200, coef0=0.0, degree=3, epsilon=0.1,\n",
      "  gamma='auto_deprecated', kernel='rbf', max_iter=-1, shrinking=True,\n",
      "  tol=0.001, verbose=False),\n",
      "       fit_params=None, iid=True, n_jobs=6,\n",
      "       param_grid={'C': array([3.125e-02, 1.250e-01, 5.000e-01, 2.000e+00, 8.000e+00, 3.200e+01,\n",
      "       1.280e+02, 5.120e+02, 2.048e+03, 8.192e+03]), 'epsilon': array([1.95312e-03, 7.81250e-03, 3.12500e-02, 1.25000e-01, 5.00000e-01,\n",
      "       2.00000e+00]), 'gamma': array([7.62939e-06, 3.05176e-05, 1.22070e-04, 4.88281e-04, 1.95312e-03,\n",
      "       7.81250e-03, 3.12500e-02, 1.25000e-01, 5.00000e-01, 2.00000e+00,\n",
      "       8.00000e+00, 3.20000e+01])},\n",
      "       pre_dispatch='2*n_jobs', refit=True, return_train_score='warn',\n",
      "       scoring='neg_mean_squared_error', verbose=True)\n"
     ]
    }
   ],
   "source": [
    "print(best_models[0])\n",
    "print(best_models[1])"
   ]
  },
  {
   "cell_type": "code",
   "execution_count": null,
   "metadata": {},
   "outputs": [],
   "source": []
  }
 ],
 "metadata": {
  "kernelspec": {
   "display_name": "Python 3",
   "language": "python",
   "name": "python3"
  },
  "language_info": {
   "codemirror_mode": {
    "name": "ipython",
    "version": 3
   },
   "file_extension": ".py",
   "mimetype": "text/x-python",
   "name": "python",
   "nbconvert_exporter": "python",
   "pygments_lexer": "ipython3",
   "version": "3.6.7"
  }
 },
 "nbformat": 4,
 "nbformat_minor": 2
}
