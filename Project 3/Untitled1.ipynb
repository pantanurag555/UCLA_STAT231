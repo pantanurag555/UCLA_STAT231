{
 "cells": [
  {
   "cell_type": "code",
   "execution_count": 1,
   "metadata": {},
   "outputs": [
    {
     "name": "stderr",
     "output_type": "stream",
     "text": [
      "d:\\python36\\lib\\site-packages\\skimage\\feature\\_hog.py:150: skimage_deprecation: Default value of `block_norm`==`L1` is deprecated and will be changed to `L2-Hys` in v0.15. To supress this message specify explicitly the normalization method.\n",
      "  skimage_deprecation)\n"
     ]
    }
   ],
   "source": [
    "import os\n",
    "import cv2\n",
    "import pickle\n",
    "import numpy as np\n",
    "import scipy.io as sio\n",
    "import matplotlib.pyplot as plt\n",
    "import matplotlib.lines as mlines\n",
    "from sklearn import svm\n",
    "from skimage.feature import hog\n",
    "from sklearn.metrics import accuracy_score\n",
    "from sklearn.preprocessing import minmax_scale\n",
    "from sklearn.model_selection import GridSearchCV\n",
    "from sklearn.model_selection import train_test_split\n",
    "\n",
    "def ld_images(folder):\n",
    "    images=[]\n",
    "    for file in os.listdir(folder):\n",
    "        image = cv2.imread(os.path.join(folder,file))\n",
    "        if image is not None:\n",
    "            images.append(image)\n",
    "    return np.asarray(images)\n",
    "\n",
    "def trait_diff(traits, votes):\n",
    "    n = traits.shape[0]\n",
    "    ones = np.full((int(n / 4)), 1)\n",
    "    minus_ones = np.full((int(n / 2) - int(n / 4)), -1)\n",
    "    labels = np.r_[ones, minus_ones]\n",
    "    k = 0\n",
    "    diff = []\n",
    "    vote_diff = []\n",
    "    for i in range(0,n,2):\n",
    "        if(labels[k] == 1):\n",
    "            diff.append(traits[i+1] - traits[i])\n",
    "            vote_diff.append(votes[i+1])\n",
    "        else:\n",
    "            diff.append(traits[i] - traits[i+1])\n",
    "            vote_diff.append(votes[i])\n",
    "        k += 1\n",
    "    diff = np.array(diff)\n",
    "    vote_diff = np.array(vote_diff)\n",
    "    return diff, vote_diff\n",
    "\n",
    "def plot_graph(train, test, type):\n",
    "    x = range(1,len(train)+1)\n",
    "    red_line = mlines.Line2D([], [], color='red', marker='o', label='Train Data')\n",
    "    green_line = mlines.Line2D([], [], color='green', marker='o', label='Test Data')\n",
    "    plt.plot(x, train, 'ro-')\n",
    "    plt.plot(x, test, 'go-')\n",
    "    plt.title(str(type)+\" Graph\")\n",
    "    plt.legend(handles = [red_line, green_line])\n",
    "    plt.show()\n",
    "\n",
    "best_models = pickle.load(open('1.2_best_models.pkl', 'rb'))\n",
    "\n",
    "all_gov_rgb = ld_images(\"img-elec/governor\")\n",
    "all_gov_hog = []\n",
    "for i in range(len(all_gov_rgb)):\n",
    "    all_gov_rgb[i] = cv2.cvtColor(all_gov_rgb[i], cv2.COLOR_BGR2RGB)\n",
    "    fd, hog_image = hog(all_gov_rgb[i], orientations = 32, pixels_per_cell = (16, 16), cells_per_block = (1,1), visualize = True, multichannel = True)\n",
    "    all_gov_hog.append(fd)\n",
    "\n",
    "all_sen_rgb = ld_images(\"img-elec/senator\")\n",
    "all_sen_hog = []\n",
    "for i in range(len(all_sen_rgb)):\n",
    "    all_sen_rgb[i] = cv2.cvtColor(all_sen_rgb[i], cv2.COLOR_BGR2RGB)\n",
    "    fd, hog_image = hog(all_sen_rgb[i], orientations = 32, pixels_per_cell = (16, 16), cells_per_block = (1,1), visualize = True, multichannel = True)\n",
    "    all_sen_hog.append(fd)"
   ]
  },
  {
   "cell_type": "code",
   "execution_count": 2,
   "metadata": {},
   "outputs": [],
   "source": [
    "stat_gov = sio.loadmat('stat-gov.mat')\n",
    "gov_landmark = stat_gov['face_landmark']\n",
    "gov_vote_diff = stat_gov['vote_diff']\n",
    "\n",
    "stat_sen = sio.loadmat('stat-sen.mat')\n",
    "sen_landmark = stat_sen['face_landmark']\n",
    "sen_vote_diff = stat_sen['vote_diff']\n",
    "\n",
    "gov_features = np.c_[all_gov_hog, gov_landmark]\n",
    "sen_features = np.c_[all_sen_hog, sen_landmark]\n",
    "\n",
    "gov_features = minmax_scale(gov_features, axis = 0)\n",
    "sen_features = minmax_scale(sen_features, axis = 0)"
   ]
  },
  {
   "cell_type": "code",
   "execution_count": 3,
   "metadata": {},
   "outputs": [],
   "source": [
    "gov_traits = []\n",
    "sen_traits = []\n",
    "for i in range(14):\n",
    "    gov_traits.append(best_models[i].predict(gov_features))\n",
    "    sen_traits.append(best_models[i].predict(sen_features))\n",
    "gov_traits = np.array(gov_traits).T\n",
    "sen_traits = np.array(sen_traits).T\n",
    "\n",
    "gov_diff, gov_final_diff = trait_diff(gov_traits, gov_vote_diff)\n",
    "sen_diff, sen_final_diff = trait_diff(sen_traits, sen_vote_diff)"
   ]
  },
  {
   "cell_type": "code",
   "execution_count": 7,
   "metadata": {},
   "outputs": [
    {
     "name": "stdout",
     "output_type": "stream",
     "text": [
      "(56,) (56,)\n"
     ]
    }
   ],
   "source": [
    "print(gov_diff[:,i].shape,np.squeeze(gov_final_diff).shape)"
   ]
  },
  {
   "cell_type": "code",
   "execution_count": 8,
   "metadata": {},
   "outputs": [
    {
     "name": "stdout",
     "output_type": "stream",
     "text": [
      "[-0.1693673878191844, 0.3341744284148116, 0.02547429141315946, -0.09273305956963755, 0.34109379943835044, 0.2270800942635146, 0.23181270598827208, -0.3243266461768745, -0.10992132520224417, -0.04821674352046149, -0.047543480912204956, 0.25698591224824424, 0.053995297633216754, 0.1311494974418329]\n",
      "[0.16637006182007316, -0.04900969470971718, -0.0414606853789956, 0.08495835500525423, -0.011562625674772677, -0.21424027424250103, 0.09319012471400298, 0.12168988200990084, 0.121086719251238, 0.08283684291380347, 0.06181564543155637, -0.12004150952557317, 0.11688461116951328, -0.14397672168761036]\n"
     ]
    }
   ],
   "source": [
    "gov_correlation = []\n",
    "sen_correlation = []\n",
    "for i in range(14):\n",
    "    gov_correlation.append(np.corrcoef(gov_diff[:,i],np.squeeze(gov_final_diff))[1,0])\n",
    "    sen_correlation.append(np.corrcoef(sen_diff[:,i],np.squeeze(sen_final_diff))[1,0])\n",
    "\n",
    "print(gov_correlation)\n",
    "print(sen_correlation)"
   ]
  },
  {
   "cell_type": "code",
   "execution_count": 9,
   "metadata": {},
   "outputs": [
    {
     "name": "stdout",
     "output_type": "stream",
     "text": [
      "{'C': 8.0, 'epsilon': 0.03125, 'gamma': 0.0001220703125}\n",
      "{'C': 8.0, 'epsilon': 0.03125, 'gamma': 0.00048828125}\n",
      "{'C': 8.0, 'epsilon': 0.001953125, 'gamma': 0.0001220703125}\n",
      "{'C': 2.0, 'epsilon': 0.001953125, 'gamma': 0.001953125}\n",
      "{'C': 8.0, 'epsilon': 0.0078125, 'gamma': 0.00048828125}\n",
      "{'C': 512.0, 'epsilon': 0.001953125, 'gamma': 7.62939453125e-06}\n",
      "{'C': 2.0, 'epsilon': 0.001953125, 'gamma': 0.00048828125}\n",
      "{'C': 2.0, 'epsilon': 0.001953125, 'gamma': 0.00048828125}\n",
      "{'C': 2.0, 'epsilon': 0.001953125, 'gamma': 0.001953125}\n",
      "{'C': 2.0, 'epsilon': 0.001953125, 'gamma': 0.001953125}\n",
      "{'C': 8.0, 'epsilon': 0.0078125, 'gamma': 0.00048828125}\n",
      "{'C': 8.0, 'epsilon': 0.125, 'gamma': 0.00048828125}\n",
      "{'C': 2.0, 'epsilon': 0.0078125, 'gamma': 0.001953125}\n",
      "{'C': 2.0, 'epsilon': 0.0078125, 'gamma': 0.00048828125}\n"
     ]
    }
   ],
   "source": [
    "for i in range(14):\n",
    "    print(best_models[i].best_params_)"
   ]
  },
  {
   "cell_type": "code",
   "execution_count": null,
   "metadata": {},
   "outputs": [],
   "source": []
  }
 ],
 "metadata": {
  "kernelspec": {
   "display_name": "Python 3",
   "language": "python",
   "name": "python3"
  },
  "language_info": {
   "codemirror_mode": {
    "name": "ipython",
    "version": 3
   },
   "file_extension": ".py",
   "mimetype": "text/x-python",
   "name": "python",
   "nbconvert_exporter": "python",
   "pygments_lexer": "ipython3",
   "version": "3.6.7"
  }
 },
 "nbformat": 4,
 "nbformat_minor": 2
}
